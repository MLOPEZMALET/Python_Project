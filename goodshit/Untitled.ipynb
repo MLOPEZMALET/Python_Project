{
 "cells": [
  {
   "cell_type": "code",
   "execution_count": 11,
   "metadata": {},
   "outputs": [
    {
     "name": "stdout",
     "output_type": "stream",
     "text": [
      "                     -       -.1  PONCT   0  0.1      ponct PONCT.1     O  \\\n",
      "0                   L'        l'    DET   3    1        det     DET  B-NP   \n",
      "1                huile     huile     NC  21   18        suj      NC  I-NP   \n",
      "2                   d'        de      P   3   -1        dep       P     O   \n",
      "3                olive     olive     NC   4   -1       prep      NC  B-NP   \n",
      "4                   de        de      P   5   -1        dep       P     O   \n",
      "5              qualité   qualité     NC   6   -1       prep      NC  B-NP   \n",
      "6             arrosant   arroser    VPR   3   -8        mod     VPR     O   \n",
      "7   EEMMOOTTIICCOONNEE         _    NPP  11   -1        obj       P     O   \n",
      "8       habituellement         _    ADV  11   -4        mod     ADV     O   \n",
      "9        généreusement         _    ADV  11   -5        mod     ADV     O   \n",
      "10                  la        la    DET  18    1        det     DET  B-NP   \n",
      "11             burrata         _     NC  11   -7        mod      NC  I-NP   \n",
      "12                 des        de    P+D  18   -1        dep     P+D  B-NP   \n",
      "13            pouilles         _     NC  19   -1       prep      NC  I-NP   \n",
      "14               était      être      V   0    0       root       V     O   \n",
      "15            insipide  insipide    ADJ  21   -1        ats     ADJ     O   \n",
      "16                  et        et     CC  21   -2      coord      CC     O   \n",
      "17                  en        en      P  23   -1  dep_coord       P     O   \n",
      "18            quantité  quantité     NC  24   -1       prep      NC  B-NP   \n",
      "19                très      très    ADV  27    1        mod     ADV  I-NP   \n",
      "20             réduite   réduire    ADJ  25   -2        mod     ADJ  I-NP   \n",
      "21                  ..        ..  PONCT  27   -1      ponct   PONCT     O   \n",
      "\n",
      "                   Vide  \n",
      "0   B#CuisineNourriture  \n",
      "1   I#CuisineNourriture  \n",
      "2   I#CuisineNourriture  \n",
      "3   I#CuisineNourriture  \n",
      "4   I#CuisineNourriture  \n",
      "5   I#CuisineNourriture  \n",
      "6   I#CuisineNourriture  \n",
      "7   I#CuisineNourriture  \n",
      "8   I#CuisineNourriture  \n",
      "9   I#CuisineNourriture  \n",
      "10  I#CuisineNourriture  \n",
      "11  I#CuisineNourriture  \n",
      "12  I#CuisineNourriture  \n",
      "13  I#CuisineNourriture  \n",
      "14  I#CuisineNourriture  \n",
      "15  I#CuisineNourriture  \n",
      "16  I#CuisineNourriture  \n",
      "17  I#CuisineNourriture  \n",
      "18  I#CuisineNourriture  \n",
      "19  I#CuisineNourriture  \n",
      "20  I#CuisineNourriture  \n",
      "21                 Vide  \n"
     ]
    }
   ],
   "source": [
    "import pandas as pd\n",
    "corpus = pd.read_csv('1.conll',sep='\\t')\n",
    "df = pd.DataFrame(corpus)\n",
    "print(df)\n",
    "    \n",
    "#if corpus[2]=='ADV':\n",
    "    #corpus[1]=corpus[0]\n",
    "#print(list(corpus))\n"
   ]
  },
  {
   "cell_type": "code",
   "execution_count": 2,
   "metadata": {},
   "outputs": [],
   "source": [
    "import csv\n",
    "with open('version4conll.conll', 'r',encoding='utf-8') as csvfile:\n",
    "    corpus = csv.reader(csvfile, delimiter='\\t')\n",
    "    liste=list(corpus)\n",
    "    #print(liste)\n",
    "    for row in liste:\n",
    "        if row==[]:\n",
    "            continue\n",
    "            #print(row[0],row[1],row[2])\n",
    "        if row[2] =='ADV' and row[1]=='_':\n",
    "            row[1]=row[0]\n",
    "        elif row[0]=='EEMMOOTTIICCOONNEE':\n",
    "            row[1]=row[0]\n",
    "        elif row[1]=='_':\n",
    "            row[1]=row[0]\n",
    "    csvfile.close()\n",
    "    #print(liste)\n",
    "with open(\"4.conll\", \"w\",encoding='utf-8',newline='') as f:\n",
    "    writer = csv.writer(f, delimiter='\\t')\n",
    "    writer.writerows(liste)\n",
    "    f.close()\n",
    "\n",
    "\n",
    "    \n",
    "            \n",
    "            "
   ]
  },
  {
   "cell_type": "code",
   "execution_count": 8,
   "metadata": {},
   "outputs": [
    {
     "name": "stdout",
     "output_type": "stream",
     "text": [
      "2\n"
     ]
    }
   ],
   "source": [
    "liste()\n",
    "r=\"[DET|NC|DET|NPP]\"\n",
    "b=\"DET\"\n",
    "if b in r:\n",
    "    print(r.count(b))"
   ]
  },
  {
   "cell_type": "code",
   "execution_count": 3,
   "metadata": {},
   "outputs": [],
   "source": [
    "import csv\n",
    "with open('4.conll', 'r',encoding='utf-8') as csvfile:\n",
    "    corpus = csv.reader(csvfile, delimiter='\\t')\n",
    "    liste=list(corpus)\n",
    "    #print(liste)\n",
    "    for row in liste:\n",
    "        if row==[]:\n",
    "            continue\n",
    "            #print(row[0],row[1],row[2])\n",
    "        if row[0]=='burgers' or row[0]=='burgers' or row[0]=='Burgers' or row[0]=='Burger':\n",
    "            row[1]=='burger'\n",
    "        elif row[0]=='déco':\n",
    "            row[1]=='décor'\n",
    "        elif row[0]=='huitres' or row[0]=='huitre':\n",
    "            row[1]=='huître'\n",
    "        elif row[0]=='happy':\n",
    "            row[1]=='Happy'\n",
    "        elif row[0]=='menue':\n",
    "            row[1]=='menu'\n",
    "        elif row[0]=='diner':\n",
    "            row[1]=='dîner'\n",
    "        elif row[0]=='Paris':\n",
    "            row[1]=='Paris'\n",
    "        elif row[0]=='€':\n",
    "            row[1]=='euro'\n",
    "        elif row[0]=='vapeurs':\n",
    "            row[1]=='vapeur'\n",
    "        elif row[0]=='Bobun' or row[0]=='bobun' or row[0]=='bo-bun' or row[0]=='Bo-bun':\n",
    "            row[1]=='bo-bun'\n",
    "        elif row[0]=='nems' or row[0]=='Nems' or row[0]=='nem' or row[0]=='Nem':\n",
    "            row[1]=='nem' \n",
    "    csvfile.close()\n",
    "    #print(liste)\n",
    "with open(\"5.conll\", \"w\",encoding='utf-8',newline='') as f:\n",
    "    writer = csv.writer(f, delimiter='\\t')\n",
    "    writer.writerows(liste)\n",
    "    f.close()"
   ]
  }
 ],
 "metadata": {
  "kernelspec": {
   "display_name": "Python 3",
   "language": "python",
   "name": "python3"
  },
  "language_info": {
   "codemirror_mode": {
    "name": "ipython",
    "version": 3
   },
   "file_extension": ".py",
   "mimetype": "text/x-python",
   "name": "python",
   "nbconvert_exporter": "python",
   "pygments_lexer": "ipython3",
   "version": "3.7.3"
  }
 },
 "nbformat": 4,
 "nbformat_minor": 2
}

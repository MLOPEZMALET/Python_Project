{
 "cells": [
  {
   "cell_type": "code",
   "execution_count": 30,
   "metadata": {},
   "outputs": [],
   "source": [
    "import spacy\n",
    "import instruments\n",
    "import re\n",
    "nlp = spacy.load('fr_core_news_sm')\n",
    "##generelise here\n",
    "with open('test.txt','r',encoding='utf-8') as corpus:\n",
    "    co=corpus.readlines()\n",
    "    dic=[]\n",
    "    for e in co:\n",
    "        e.split('\\n')\n",
    "        dic.append(e)"
   ]
  },
  {
   "cell_type": "code",
   "execution_count": 31,
   "metadata": {},
   "outputs": [],
   "source": [
    "dic2=[]\n",
    "for e in co:\n",
    "    for i in e.replace('\\n','').replace('?','').replace('!','').replace('.','').replace('’','').replace(',','').split():\n",
    "        dic2.append(i)\n",
    "#si on est interessé au niveau des phrases dic - sans tokenization, dicc avec tokenization\n",
    "dicc=[[e.replace('\\n','').split()]for e in dic]\n",
    "dic3=[]\n",
    "for e in co:\n",
    "    for i in e.split():\n",
    "        dic3.append(i)\n",
    "text=' '.join(dic2)\n",
    "###for pos\n",
    "doc = nlp(text)\n",
    "###"
   ]
  },
  {
   "cell_type": "code",
   "execution_count": 32,
   "metadata": {},
   "outputs": [
    {
     "name": "stdout",
     "output_type": "stream",
     "text": [
      "show frequencies n\n",
      "show patterns n\n",
      "show ponctuations stats n\n",
      "show statistique de parties de discours n\n",
      "specificity of the word: n\n",
      "les phrases nominales n\n",
      "longuer des mots n\n",
      "contexte des mots yes\n",
      "context du quel mot? Emmanuel\n",
      "combien de mots avant et après? 3\n",
      "pour le climat, Emmanuel Macron joue sa\n",
      "du grand débat, Emmanuel Macron avait annoncé\n",
      "politique majeur pour Emmanuel Macron, qui cherche\n",
      "le climat : Emmanuel Macron prône une\n",
      "le 17 novembre, Emmanuel Macron a annoncé\n"
     ]
    }
   ],
   "source": [
    "if input('show frequencies ')=='yes':\n",
    "    motvidesquestion=input('on consiedere les mots vides?yes/no ')\n",
    "    if 'no' in motvidesquestion:\n",
    "        listvide=open('stopwords.txt','r',encoding='utf-8')\n",
    "        lv=listvide.readlines()\n",
    "        dicvide=[]\n",
    "        for e in lv:\n",
    "            dicvide.append(e.replace('\\n','').replace('\\t',''))\n",
    "        liste2=tokenizer(text)\n",
    "        #lenght totale\n",
    "        print(len(liste2),\"lenght of corpus\")\n",
    "        liste4=[e for e in liste2 if e not in dicvide]\n",
    "        #combien de mots vide?\n",
    "        print(len(liste2)-len(liste4),\" stop words\")\n",
    "        #lenght sans mots vides\n",
    "        print(len(liste4),\" -without stop words\")\n",
    "        frequency(liste4)\n",
    "    elif 'yes' in motvidesquestion:\n",
    "        liste2=tokenizer(text)\n",
    "        frequency(liste2)\n",
    "elif input('show patterns ')=='yes':\n",
    "        patterngiver(doc)\n",
    "elif input('show ponctuations stats ')=='yes':\n",
    "    cptinterog=0\n",
    "    for e in dicc:\n",
    "        for i in e:\n",
    "            if '?' in i:\n",
    "                cptinterog+=1\n",
    "    print(cptinterog,\"- ?\")\n",
    "    #combien de phrases exclamatives?\n",
    "    cptex=0\n",
    "    for e in dic3:\n",
    "        for i in e:\n",
    "            if '!' in i:\n",
    "                cptex+=1\n",
    "    print(cptex,\"- !\")\n",
    "    #combien de phrases avec ...?\n",
    "    cptpts=0\n",
    "    for e in dic3:\n",
    "        if '...' in e:\n",
    "            cptpts+=1\n",
    "    print(cptpts,\"- ...\")\n",
    "elif input('show statistique de parties de discours ')=='yes':\n",
    "    posstats(doc)\n",
    "elif input('specificity of the word: ')=='yes':\n",
    "    specificity(text)\n",
    "elif input('les phrases nominales ')=='yes':\n",
    "    phrasesnominales(dic)\n",
    "elif input('longuer des mots ')=='yes':\n",
    "    longuermots(doc)\n",
    "elif input('contexte des mots ')=='yes':\n",
    "    contexte(text,dic3)\n",
    "else:\n",
    "    print('write it correctly')"
   ]
  },
  {
   "cell_type": "code",
   "execution_count": 93,
   "metadata": {},
   "outputs": [],
   "source": [
    "##gives liste of words poatags and syntax rol\n",
    "for token in doc:\n",
    "    \n",
    "    print(token.text, token.pos_, token.dep_)\n",
    "#print([(word.text, word.pos_) for word in doc])"
   ]
  },
  {
   "cell_type": "code",
   "execution_count": null,
   "metadata": {},
   "outputs": [],
   "source": [
    "contexte(text,dic3)"
   ]
  },
  {
   "cell_type": "code",
   "execution_count": null,
   "metadata": {},
   "outputs": [],
   "source": []
  }
 ],
 "metadata": {
  "kernelspec": {
   "display_name": "Python 3",
   "language": "python",
   "name": "python3"
  }
 },
 "nbformat": 4,
 "nbformat_minor": 2
}

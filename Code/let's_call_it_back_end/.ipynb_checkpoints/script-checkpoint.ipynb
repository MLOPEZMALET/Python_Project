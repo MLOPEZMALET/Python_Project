{
 "cells": [
  {
   "cell_type": "code",
   "execution_count": 1,
   "metadata": {},
   "outputs": [
    {
     "ename": "IndentationError",
     "evalue": "unexpected indent (<ipython-input-1-33383814c00f>, line 11)",
     "output_type": "error",
     "traceback": [
      "\u001b[0;36m  File \u001b[0;32m\"<ipython-input-1-33383814c00f>\"\u001b[0;36m, line \u001b[0;32m11\u001b[0m\n\u001b[0;31m    e.split('\\n')\u001b[0m\n\u001b[0m    ^\u001b[0m\n\u001b[0;31mIndentationError\u001b[0m\u001b[0;31m:\u001b[0m unexpected indent\n"
     ]
    }
   ],
   "source": [
    "import spacy\n",
    "import instruments\n",
    "import re\n",
    "import plotly.graph_objects as go\n",
    "nlp = spacy.load('fr_core_news_sm')\n",
    "##generelise here\n",
    "with open('test.txt','r',encoding='utf-8') as corpus:\n",
    "    co=corpus.readlines()\n",
    "    dic=[]\n",
    "    for e in co:\n",
    "        e.split('\\n')\n",
    "        dic.append(e)\n",
    "dic2=[]\n",
    "for e in co:\n",
    "    for i in e.replace('\\n','').replace('?','').replace('!','').replace('.','').replace('’','').replace(',','').split():\n",
    "        dic2.append(i)\n",
    "#si on est interessé au niveau des phrases dic - sans tokenization, dicc avec tokenization\n",
    "dicc=[[e.replace('\\n','').split()]for e in dic]\n",
    "dic3=[]\n",
    "for e in co:\n",
    "    for i in e.split():\n",
    "        dic3.append(i)\n",
    "text=' '.join(dic2)\n",
    "###for pos\n",
    "doc = nlp(text)\n",
    "###for tfidf\n",
    "r=text.split('***')\n",
    "####\n",
    "if input('show frequencies ')=='yes':\n",
    "    motvidesquestion=input('on consiedere les mots vides?yes/no ')\n",
    "    if 'no' in motvidesquestion:\n",
    "        listvide=open('stopwords.txt','r',encoding='utf-8')\n",
    "        lv=listvide.readlines()\n",
    "        dicvide=[]\n",
    "        for e in lv:\n",
    "            dicvide.append(e.replace('\\n','').replace('\\t',''))\n",
    "        liste2=instruments.tokenizer(text)\n",
    "        #lenght totale\n",
    "        print(len(liste2),\"lenght of corpus\")\n",
    "        liste4=[e for e in liste2 if e not in dicvide]\n",
    "        #combien de mots vide?\n",
    "        print(len(liste2)-len(liste4),\" stop words\")\n",
    "        #lenght sans mots vides\n",
    "        print(len(liste4),\" -without stop words\")\n",
    "        instruments.frequency(liste4)\n",
    "    elif 'yes' in motvidesquestion:\n",
    "        liste2=instruments.tokenizer(text)\n",
    "        instruments.frequency(liste2)\n",
    "elif input('show patterns ')=='yes':\n",
    "        instruments.patterngiver(doc)\n",
    "elif input('show ponctuations stats ')=='yes':\n",
    "    cptinterog=0\n",
    "    for e in dicc:\n",
    "        for i in e:\n",
    "            if '?' in i:\n",
    "                cptinterog+=1\n",
    "    print(cptinterog,\"- ?\")\n",
    "    #combien de phrases exclamatives?\n",
    "    cptex=0\n",
    "    for e in dic3:\n",
    "        for i in e:\n",
    "            if '!' in i:\n",
    "                cptex+=1\n",
    "    print(cptex,\"- !\")\n",
    "    #combien de phrases avec ...?\n",
    "    cptpts=0\n",
    "    for e in dic3:\n",
    "        if '...' in e:\n",
    "            cptpts+=1\n",
    "    print(cptpts,\"- ...\")\n",
    "elif input('show statistique de parties de discours ')=='yes':\n",
    "    instruments.posstats(doc)\n",
    "elif input('specificity of the word: ')=='yes':\n",
    "    instruments.specificity(text)\n",
    "elif input('les phrases nominales ')=='yes':\n",
    "    instruments.phrasesnominales(dic)\n",
    "elif input('longuer des mots ')=='yes':\n",
    "    instruments.longuermots(doc)\n",
    "elif input('contexte des mots ')=='yes':\n",
    "    instruments.contexte(text,dic3)\n",
    "elif input('tf-idf')=='yes':\n",
    "    instruments.tfidfer(r)\n",
    "else:\n",
    "    print('write it correctly')"
   ]
  },
  {
   "cell_type": "code",
   "execution_count": null,
   "metadata": {},
   "outputs": [],
   "source": [
    "##gives liste of words poatags and syntax rol\n",
    "for token in doc:\n",
    "    \n",
    "    print(token.text, token.pos_, token.dep_)\n",
    "#print([(word.text, word.pos_) for word in doc])"
   ]
  },
  {
   "cell_type": "code",
   "execution_count": 6,
   "metadata": {},
   "outputs": [],
   "source": [
    "import plotly.graph_objs as go"
   ]
  },
  {
   "cell_type": "code",
   "execution_count": null,
   "metadata": {},
   "outputs": [],
   "source": []
  }
 ],
 "metadata": {
  "kernelspec": {
   "display_name": "Python 3",
   "language": "python",
   "name": "python3"
  },
  "language_info": {
   "codemirror_mode": {
    "name": "ipython",
    "version": 3
   },
   "file_extension": ".py",
   "mimetype": "text/x-python",
   "name": "python",
   "nbconvert_exporter": "python",
   "pygments_lexer": "ipython3",
   "version": "3.6.9"
  }
 },
 "nbformat": 4,
 "nbformat_minor": 2
}
